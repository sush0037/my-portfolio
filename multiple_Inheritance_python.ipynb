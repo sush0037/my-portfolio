{
  "nbformat": 4,
  "nbformat_minor": 0,
  "metadata": {
    "colab": {
      "provenance": [],
      "authorship_tag": "ABX9TyPwVsLfcEtGn5i0XC0FnQ8v",
      "include_colab_link": true
    },
    "kernelspec": {
      "name": "python3",
      "display_name": "Python 3"
    },
    "language_info": {
      "name": "python"
    }
  },
  "cells": [
    {
      "cell_type": "markdown",
      "metadata": {
        "id": "view-in-github",
        "colab_type": "text"
      },
      "source": [
        "<a href=\"https://colab.research.google.com/github/sush0037/my-portfolio/blob/master/multiple_Inheritance_python.ipynb\" target=\"_parent\"><img src=\"https://colab.research.google.com/assets/colab-badge.svg\" alt=\"Open In Colab\"/></a>"
      ]
    },
    {
      "cell_type": "code",
      "execution_count": 3,
      "metadata": {
        "colab": {
          "base_uri": "https://localhost:8080/"
        },
        "id": "AYF8eF6NVLCY",
        "outputId": "9800141f-3498-4011-d2d6-1840c040567e"
      },
      "outputs": [
        {
          "output_type": "stream",
          "name": "stdout",
          "text": [
            "Car:MahindraXUV700White\n"
          ]
        }
      ],
      "source": [
        "class Car:\n",
        "    #defining first method\n",
        "    def __init__(self,brand,model,color):\n",
        "        self.brand = brand\n",
        "        self.model = model\n",
        "        self.color = color\n",
        "\n",
        "    #defining second method\n",
        "    def display (self) :\n",
        "      print(f\"Car:{self.brand}{self.model}{self.color}\")\n",
        "car1=Car('Mahindra','XUV700','White')\n",
        "car1.display()"
      ]
    },
    {
      "cell_type": "code",
      "source": [
        "#multiple inheritance in python\n",
        "class Class1:\n",
        "    def m(self):\n",
        "        print(\"In Class1\")\n",
        "\n",
        "class Class2(Class1):\n",
        "    def m(self):\n",
        "        print(\"In Class2\")\n",
        "\n",
        "class Class3(Class1):\n",
        "     def m(self):\n",
        "        print(\"In Class3\")\n",
        "\n",
        "class Class4(Class2,Class3):\n",
        "     pass\n",
        "\n",
        "obj = Class4()\n",
        "obj.m()"
      ],
      "metadata": {
        "colab": {
          "base_uri": "https://localhost:8080/"
        },
        "id": "lEhI-jNvWbtl",
        "outputId": "8f693fe5-e8f2-4e20-8742-d27062f1b359"
      },
      "execution_count": 10,
      "outputs": [
        {
          "output_type": "stream",
          "name": "stdout",
          "text": [
            "In Class2\n"
          ]
        }
      ]
    }
  ]
}