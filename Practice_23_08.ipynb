{
  "nbformat": 4,
  "nbformat_minor": 0,
  "metadata": {
    "colab": {
      "provenance": [],
      "toc_visible": true,
      "authorship_tag": "ABX9TyPq6A7PGurCT+O8rfGOpy4u",
      "include_colab_link": true
    },
    "kernelspec": {
      "name": "python3",
      "display_name": "Python 3"
    },
    "language_info": {
      "name": "python"
    }
  },
  "cells": [
    {
      "cell_type": "markdown",
      "metadata": {
        "id": "view-in-github",
        "colab_type": "text"
      },
      "source": [
        "<a href=\"https://colab.research.google.com/github/sush0037/my-portfolio/blob/master/Practice_23_08.ipynb\" target=\"_parent\"><img src=\"https://colab.research.google.com/assets/colab-badge.svg\" alt=\"Open In Colab\"/></a>"
      ]
    },
    {
      "cell_type": "code",
      "execution_count": 31,
      "metadata": {
        "id": "J5e8dV8FNLgm"
      },
      "outputs": [],
      "source": [
        "# Creating a class\n",
        "class Car:\n",
        "    #defining first method\n",
        "    def __init__(self,brand,model,color):\n",
        "        self.brand = brand\n",
        "        self.model = model\n",
        "        self.color = color\n",
        "\n",
        "    #defining second method\n",
        "    def display (self) :\n",
        "      print(f\"Car:{self.brand}{self.model}{self.color}\")\n",
        "      car1=Car('Mahindra','XUV700','White')\n",
        "      car1.display()"
      ]
    },
    {
      "cell_type": "markdown",
      "source": [
        "execution of cells :\n",
        "Ctrl + enter\n",
        "SHift + enter\n",
        "play button\n"
      ],
      "metadata": {
        "id": "lkhjEg-BKeF7"
      }
    }
  ]
}